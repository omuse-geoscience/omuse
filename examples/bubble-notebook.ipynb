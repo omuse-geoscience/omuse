{
 "cells": [
  {
   "cell_type": "markdown",
   "metadata": {},
   "source": [
    "### Import modules"
   ]
  },
  {
   "cell_type": "code",
   "execution_count": null,
   "metadata": {},
   "outputs": [],
   "source": [
    "import numpy\n",
    "import matplotlib.pyplot as plt\n",
    "from omuse.community.dales.interface import Dales\n",
    "from omuse.units import units"
   ]
  },
  {
   "cell_type": "markdown",
   "metadata": {},
   "source": [
    "### Create Dales object\n",
    "\n",
    "Using a single MPI task for the model"
   ]
  },
  {
   "cell_type": "code",
   "execution_count": null,
   "metadata": {},
   "outputs": [],
   "source": [
    "d=Dales(workdir='daleswork', channel_type='sockets', number_of_workers=1)"
   ]
  },
  {
   "cell_type": "markdown",
   "metadata": {},
   "source": [
    "### Set parameters\n",
    "\n",
    "Domain size and resolution"
   ]
  },
  {
   "cell_type": "code",
   "execution_count": null,
   "metadata": {},
   "outputs": [],
   "source": [
    "d.parameters_DOMAIN.itot = 32  # number of grid cells in x\n",
    "d.parameters_DOMAIN.jtot = 32  # number of grid cells in y\n",
    "d.parameters_DOMAIN.xsize = 6400 | units.m\n",
    "d.parameters_DOMAIN.ysize = 6400 | units.m"
   ]
  },
  {
   "cell_type": "markdown",
   "metadata": {},
   "source": [
    "Select advection schemes"
   ]
  },
  {
   "cell_type": "code",
   "execution_count": null,
   "metadata": {},
   "outputs": [],
   "source": [
    "d.parameters_DYNAMICS.iadv_mom = 6 # 6th order advection for momentum\n",
    "d.parameters_DYNAMICS.iadv_thl = 5 # 5th order advection for scalars, less overshoots than 6th order"
   ]
  },
  {
   "cell_type": "markdown",
   "metadata": {},
   "source": [
    "Turn off randomization of the initial state"
   ]
  },
  {
   "cell_type": "code",
   "execution_count": null,
   "metadata": {},
   "outputs": [],
   "source": [
    "d.parameters_RUN.krand = 0"
   ]
  },
  {
   "cell_type": "markdown",
   "metadata": {},
   "source": [
    "Turn on adaptive time stepping and set more conservative time step limits"
   ]
  },
  {
   "cell_type": "code",
   "execution_count": null,
   "metadata": {},
   "outputs": [],
   "source": [
    "d.parameters_RUN.ladaptive = True\n",
    "d.parameters_RUN.courant  = 0.5\n",
    "d.parameters_RUN.peclet   = 0.1"
   ]
  },
  {
   "cell_type": "markdown",
   "metadata": {},
   "source": [
    "Wind in the sponge layer dampened towards average wind (for symmetric evolution)"
   ]
  },
  {
   "cell_type": "code",
   "execution_count": null,
   "metadata": {},
   "outputs": [],
   "source": [
    "d.parameters_PHYSICS.lcoriol = False\n",
    "d.parameters_PHYSICS.igrw_damp = 3"
   ]
  },
  {
   "cell_type": "markdown",
   "metadata": {},
   "source": [
    "### Set up initial state of the system\n",
    "\n",
    "Set all velocities to 0"
   ]
  },
  {
   "cell_type": "code",
   "execution_count": null,
   "metadata": {},
   "outputs": [],
   "source": [
    "d.fields[:,:,:].U = 0 | units.m / units.s\n",
    "d.fields[:,:,:].V = 0 | units.m / units.s\n",
    "d.fields[:,:,:].W = 0 | units.m / units.s"
   ]
  },
  {
   "cell_type": "markdown",
   "metadata": {},
   "source": [
    "Set a low specific humidity -> no cloud formation"
   ]
  },
  {
   "cell_type": "code",
   "execution_count": null,
   "metadata": {},
   "outputs": [],
   "source": [
    "d.fields[:,:,:].QT = 0.001 | units.kg / units.kg"
   ]
  },
  {
   "cell_type": "markdown",
   "metadata": {},
   "source": [
    "Create a bubble perturbation, given a DALES grid which is used for grid size and coordinates\n",
    "if ```gaussian=True```, a gaussian perturbation is generated, with standard deviation r, otherwise a\n",
    "constant perturbation is generated inside a sphere of radius r."
   ]
  },
  {
   "cell_type": "markdown",
   "metadata": {},
   "source": [
    "Create a perturbation: Gaussian bubble of warm air at (cx,cy,cz), radius r "
   ]
  },
  {
   "cell_type": "code",
   "execution_count": null,
   "metadata": {},
   "outputs": [],
   "source": [
    "cx,cy,cz,r = 3200|units.m, 3200|units.m, 500|units.m, 500|units.m\n",
    "d.fields[:,:,:].THL += (0.5 | units.K) * numpy.exp(\n",
    "    -((d.fields.x-cx)**2 + (d.fields.y-cy)**2 + (d.fields.z-cz)**2)/(2*r**2))"
   ]
  },
  {
   "cell_type": "markdown",
   "metadata": {},
   "source": [
    "### Evolve model\n",
    "\n",
    "...and plot vertical cross sections of the thl field at regular intervals"
   ]
  },
  {
   "cell_type": "code",
   "execution_count": null,
   "metadata": {},
   "outputs": [],
   "source": [
    "times = numpy.linspace(0, 44, 12) | units.minute # times for snapshots\n",
    "fig, axes = plt.subplots(3, 4, sharex=True, sharey=True,figsize=(10,7))\n",
    "extent = (0, d.fields.y[0,-1,0].value_in(units.m),\n",
    "          0, d.fields.z[0,0,-1].value_in(units.m))\n",
    "\n",
    "for t,ax in zip(times, axes.flatten()):\n",
    "    print('Evolving to', t)\n",
    "    d.evolve_model(t)\n",
    "    im = ax.imshow(d.fields[16,:,:].THL.value_in(units.K).transpose(), \n",
    "              extent=extent, origin='bottom', vmin=292.5, vmax=292.75)\n",
    "    ax.text(.1, .1, str(t.in_(units.minute)),\n",
    "             color='w', transform=ax.transAxes)\n"
   ]
  },
  {
   "cell_type": "code",
   "execution_count": null,
   "metadata": {},
   "outputs": [],
   "source": []
  }
 ],
 "metadata": {
  "kernelspec": {
   "display_name": "Python 3",
   "language": "python",
   "name": "python3"
  },
  "language_info": {
   "codemirror_mode": {
    "name": "ipython",
    "version": 3
   },
   "file_extension": ".py",
   "mimetype": "text/x-python",
   "name": "python",
   "nbconvert_exporter": "python",
   "pygments_lexer": "ipython3",
   "version": "3.6.8"
  }
 },
 "nbformat": 4,
 "nbformat_minor": 2
}
