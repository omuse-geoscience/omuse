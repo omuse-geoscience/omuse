{
 "cells": [
  {
   "cell_type": "code",
   "execution_count": null,
   "metadata": {},
   "outputs": [],
   "source": [
    "from omuse.community.dales.interface import Dales\n",
    "from omuse.units import units\n",
    "import matplotlib.pyplot as plt\n",
    "import numpy"
   ]
  },
  {
   "cell_type": "code",
   "execution_count": null,
   "metadata": {},
   "outputs": [],
   "source": [
    "# create Dales object\n",
    "d=Dales(workdir='dalesdir', channel_type='sockets', number_of_workers=1)"
   ]
  },
  {
   "cell_type": "code",
   "execution_count": null,
   "metadata": {},
   "outputs": [],
   "source": [
    "# Set parameters\n",
    "\n",
    "# Domain size and resolution\n",
    "d.parameters_DOMAIN.itot = 32  # number of grid cells in x\n",
    "d.parameters_DOMAIN.jtot = 32  # number of grid cells in y\n",
    "d.parameters_DOMAIN.xsize = 6400 | units.m\n",
    "d.parameters_DOMAIN.ysize = 6400 | units.m\n",
    "\n",
    "\n",
    "# Select advection schemes\n",
    "d.parameters_DYNAMICS.iadv_mom = 6 # 6th order advection for momentum\n",
    "d.parameters_DYNAMICS.iadv_thl = 5 # 5th order advection for scalars, less overshoots than 6th order\n",
    "d.parameters_DYNAMICS.iadv_qt  = 5\n",
    "d.parameters_DYNAMICS.iadv_tke = 5\n",
    "\n",
    "# turn off randomization of the initial state\n",
    "d.parameters_RUN.randqt  = 0 | units.shu\n",
    "d.parameters_RUN.randthl = 0 | units.K\n",
    "d.parameters_RUN.randu   = 0 | units.m / units.s\n",
    "\n",
    "# turn on adaptive time stepping and set more conservative time step limits\n",
    "d.parameters_RUN.ladaptive = True\n",
    "d.parameters_RUN.courant  = 0.5\n",
    "d.parameters_RUN.peclet   = 0.1\n",
    "\n",
    "d.parameters_PHYSICS.lcoriol = False\n",
    "d.parameters_PHYSICS.igrw_damp = 3    # Wind in the sponge layer dampened towards average wind (for symmetric evolution)"
   ]
  },
  {
   "cell_type": "code",
   "execution_count": null,
   "metadata": {},
   "outputs": [],
   "source": [
    "# set up initial state of the system\n",
    "# set all velocities to 0\n",
    "d.grid[:,:,:].U = 0 | units.m / units.s\n",
    "d.grid[:,:,:].V = 0 | units.m / units.s\n",
    "d.grid[:,:,:].W = 0 | units.m / units.s\n",
    "\n",
    "# set a low specific humidity -> no cloud formation\n",
    "d.grid[:,:,:].QT = 0.001 | units.kg / units.kg\n"
   ]
  },
  {
   "cell_type": "code",
   "execution_count": null,
   "metadata": {},
   "outputs": [],
   "source": [
    "# create a bubble perturbation, given a DALES grid which is used for grid size and coordinates\n",
    "# if gaussian=True, a gaussian perturbation is generated, with standard deviation r, otherwise a\n",
    "# constant perturbation is generated inside a sphere of radius r.\n",
    "#\n",
    "# r, center are quantities, i.e. numbers with units.\n",
    "\n",
    "def make_bubble(grid, r, center=None, gaussian=False):\n",
    "    if center is None:\n",
    "        ci = ((numpy.array(d.grid.THL.shape) - 1)*.5)\n",
    "        ci = (int(ci[0]), int(ci[1]), int(ci[2]))\n",
    "        print('ci', ci)\n",
    "        center=(grid[ci].x.value_in(units.m), grid[ci].y.value_in(units.m), grid[ci].z.value_in(units.m))\n",
    "        print ('center', center)\n",
    "    else:\n",
    "        center = [c.value_in(units.m) for c in center]\n",
    "        \n",
    "    X = grid[:,0,0].x.value_in(units.m) # fetch coordinate grids once, for speed\n",
    "    Y = grid[0,:,0].y.value_in(units.m) # drop the units here for faster calculation below\n",
    "    Z = grid[0,0,:].z.value_in(units.m)\n",
    "    r = r.value_in(units.m)\n",
    "    \n",
    "    bubble = numpy.zeros(d.grid.THL.shape)\n",
    "    for index, v in numpy.ndenumerate(bubble):\n",
    "        i,j,k = index\n",
    "        x = X[i] - center[0]\n",
    "        y = Y[j] - center[1]\n",
    "        z = Z[k] - center[2]\n",
    "        rr = x**2 + y**2 + z**2    \n",
    "        if gaussian:\n",
    "            bubble[index] = numpy.exp(-rr/(2*r**2))\n",
    "        else:\n",
    "            bubble[index] = 1 if (rr <= r*r) else 0\n",
    "    return bubble"
   ]
  },
  {
   "cell_type": "code",
   "execution_count": null,
   "metadata": {},
   "outputs": [],
   "source": [
    "# create a perturbation: bubble of warm air.\n",
    "bubble = make_bubble(d.grid, r = 500 | units.m, center = (3200|units.m, 3200|units.m, 500|units.m), gaussian = True)\n",
    "d.grid[:,:,:].THL += 0.5 * bubble | units.K"
   ]
  },
  {
   "cell_type": "code",
   "execution_count": null,
   "metadata": {},
   "outputs": [],
   "source": [
    "# evolve model, save a sequence of 3D snapshots at times specified below:\n",
    "times = numpy.linspace(0, 40, 11) | units.minute\n",
    "\n",
    "states = []\n",
    "for t in times:\n",
    "    state = {}\n",
    "    print(\"Evolving to\", str(t))\n",
    "    d.evolve_model(t)\n",
    "\n",
    "    # save model variables\n",
    "    state['thl'] = d.grid[:,:,:].THL \n",
    "    state['qt']  = d.grid[:,:,:].QT\n",
    "    state['ql']  = d.grid[:,:,:].QL\n",
    "    state['T']   = d.grid[:,:,:].T\n",
    "    state['time'] = t\n",
    "    states.append(state)\n"
   ]
  },
  {
   "cell_type": "code",
   "execution_count": null,
   "metadata": {},
   "outputs": [],
   "source": [
    "# Plot time series\n",
    "\n",
    "C,R = 3,4 # number of columns and rows in plot\n",
    "\n",
    "# select field to plot\n",
    "field,unit = 'thl', units.K    # liquid water potential temperature\n",
    "#field,unit = 'T', units.K     # temperature\n",
    "#field,unit = 'qt', units.shu  # total specific humidity\n",
    "#field,unit = 'ql', units.shu  # specific cloud liquid water\n",
    "\n",
    "# find range of the variable over all the saved snapshots\n",
    "vmin=1e10\n",
    "vmax=-1e10\n",
    "for ind in range(len(states)):\n",
    "    vmin = min(vmin, numpy.amin(states[ind][field].value_in(unit)))\n",
    "    vmax = max(vmax, numpy.amax(states[ind][field].value_in(unit)))\n",
    "delta = vmax-vmin\n",
    "vmax = vmin+delta/4 # adjust the range for better view of the later stages\n",
    "\n",
    "# set up the grid extents for proper y and z axes on the plot\n",
    "e = (0, d.grid.y[0,-1,0].value_in(units.m), 0, d.grid.z[0,0,-1].value_in(units.m)) #(left, right, bottom, top)\n",
    "\n",
    "# plot yz slices at a given x index xi\n",
    "xi = int(d.grid.THL.shape[0]/2) # middle of the system in x\n",
    "\n",
    "# make a grid of plots of all the snapshots\n",
    "fig, axes = plt.subplots(R, C, sharex=True, sharey=True, figsize=(15,14))\n",
    "ind = 0\n",
    "for j in range(R):\n",
    "    for i in range(C):\n",
    "        if ind < len(states):\n",
    "            f  = states[ind][field].value_in(unit)\n",
    "            time = states[ind]['time']\n",
    "        \n",
    "            im = axes[j, i].imshow(f[xi,:,:].transpose(), origin='bottom', extent=e, vmin=vmin, vmax=vmax)\n",
    "            axes[j, i].text(.1, .1, str(time.in_(units.minute)), color='w', transform=axes[j,i].transAxes)\n",
    "            ind += 1\n",
    "        else:\n",
    "            # remove un-used axes\n",
    "            fig.delaxes(axes[j, i])\n",
    "\n",
    "# set up a color bar\n",
    "bar_axes = plt.axes((.7, .05, .03, .18))\n",
    "cbar = plt.colorbar(im, cax=bar_axes)\n",
    "cbar.set_label('%s (%s)'%(field, unit))\n"
   ]
  },
  {
   "cell_type": "code",
   "execution_count": null,
   "metadata": {},
   "outputs": [],
   "source": []
  }
 ],
 "metadata": {
  "kernelspec": {
   "display_name": "Python 2",
   "language": "python",
   "name": "python2"
  },
  "language_info": {
   "codemirror_mode": {
    "name": "ipython",
    "version": 2
   },
   "file_extension": ".py",
   "mimetype": "text/x-python",
   "name": "python",
   "nbconvert_exporter": "python",
   "pygments_lexer": "ipython2",
   "version": "2.7.15"
  }
 },
 "nbformat": 4,
 "nbformat_minor": 2
}
