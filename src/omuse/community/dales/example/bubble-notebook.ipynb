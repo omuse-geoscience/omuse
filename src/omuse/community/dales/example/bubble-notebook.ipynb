{
 "cells": [
  {
   "cell_type": "markdown",
   "metadata": {},
   "source": [
    "### Import modules"
   ]
  },
  {
   "cell_type": "code",
   "execution_count": null,
   "metadata": {},
   "outputs": [],
   "source": [
    "from omuse.community.dales.interface import Dales\n",
    "from omuse.units import units\n",
    "import matplotlib.pyplot as plt\n",
    "import numpy"
   ]
  },
  {
   "cell_type": "markdown",
   "metadata": {},
   "source": [
    "### Create Dales object\n",
    "\n",
    "Using a single MPI task for the model"
   ]
  },
  {
   "cell_type": "code",
   "execution_count": null,
   "metadata": {},
   "outputs": [],
   "source": [
    "d = Dales(workdir='bubble-nb', channel_type='sockets', number_of_workers=1)"
   ]
  },
  {
   "cell_type": "markdown",
   "metadata": {},
   "source": [
    "### Set parameters\n",
    "\n",
    "Domain size and resolution"
   ]
  },
  {
   "cell_type": "code",
   "execution_count": null,
   "metadata": {},
   "outputs": [],
   "source": [
    "d.parameters_DOMAIN.itot = 32  # number of grid cells in x\n",
    "d.parameters_DOMAIN.jtot = 32  # number of grid cells in y\n",
    "d.parameters_DOMAIN.xsize = 6400 | units.m\n",
    "d.parameters_DOMAIN.ysize = 6400 | units.m"
   ]
  },
  {
   "cell_type": "markdown",
   "metadata": {},
   "source": [
    "Select advection schemes"
   ]
  },
  {
   "cell_type": "code",
   "execution_count": null,
   "metadata": {},
   "outputs": [],
   "source": [
    "d.parameters_DYNAMICS.iadv_mom = 6 # 6th order advection for momentum\n",
    "d.parameters_DYNAMICS.iadv_thl = 5 # 5th order advection for scalars, less overshoots than 6th order\n",
    "d.parameters_DYNAMICS.iadv_qt  = 5\n",
    "d.parameters_DYNAMICS.iadv_tke = 5"
   ]
  },
  {
   "cell_type": "markdown",
   "metadata": {},
   "source": [
    "Turn off randomization of the initial state"
   ]
  },
  {
   "cell_type": "code",
   "execution_count": null,
   "metadata": {},
   "outputs": [],
   "source": [
    "d.parameters_RUN.randqt  = 0 | units.shu\n",
    "d.parameters_RUN.randthl = 0 | units.K\n",
    "d.parameters_RUN.randu   = 0 | units.m / units.s"
   ]
  },
  {
   "cell_type": "markdown",
   "metadata": {},
   "source": [
    "Turn on adaptive time stepping and set more conservative time step limits"
   ]
  },
  {
   "cell_type": "code",
   "execution_count": null,
   "metadata": {},
   "outputs": [],
   "source": [
    "d.parameters_RUN.ladaptive = True\n",
    "d.parameters_RUN.courant  = 0.5\n",
    "d.parameters_RUN.peclet   = 0.1"
   ]
  },
  {
   "cell_type": "markdown",
   "metadata": {},
   "source": [
    "Wind in the sponge layer dampened towards average wind (for symmetric evolution)"
   ]
  },
  {
   "cell_type": "code",
   "execution_count": null,
   "metadata": {},
   "outputs": [],
   "source": [
    "d.parameters_PHYSICS.lcoriol = False\n",
    "d.parameters_PHYSICS.igrw_damp = 3"
   ]
  },
  {
   "cell_type": "markdown",
   "metadata": {},
   "source": [
    "### Set up initial state of the system\n",
    "\n",
    "Set all velocities to 0"
   ]
  },
  {
   "cell_type": "code",
   "execution_count": null,
   "metadata": {},
   "outputs": [],
   "source": [
    "d.fields[:,:,:].U = 0 | units.m / units.s\n",
    "d.fields[:,:,:].V = 0 | units.m / units.s\n",
    "d.fields[:,:,:].W = 0 | units.m / units.s"
   ]
  },
  {
   "cell_type": "markdown",
   "metadata": {},
   "source": [
    "Set a low specific humidity -> no cloud formation"
   ]
  },
  {
   "cell_type": "code",
   "execution_count": null,
   "metadata": {},
   "outputs": [],
   "source": [
    "d.fields[:,:,:].QT = 0.001 | units.kg / units.kg"
   ]
  },
  {
   "cell_type": "markdown",
   "metadata": {},
   "source": [
    "Create a bubble perturbation, given a DALES grid which is used for grid size and coordinates\n",
    "if ```gaussian=True```, a gaussian perturbation is generated, with standard deviation r, otherwise a\n",
    "constant perturbation is generated inside a sphere of radius r."
   ]
  },
  {
   "cell_type": "code",
   "execution_count": null,
   "metadata": {},
   "outputs": [],
   "source": [
    "def make_bubble(grid, r, center=None, gaussian=False):# r, center are quantities, i.e. numbers with units.\n",
    "    if center is None:\n",
    "        ci = ((numpy.array(grid.THL.shape) - 1)*.5)\n",
    "        ci = (int(ci[0]), int(ci[1]), int(ci[2]))\n",
    "        print('ci', ci)\n",
    "        center=(grid[ci].x.value_in(units.m), grid[ci].y.value_in(units.m), grid[ci].z.value_in(units.m))\n",
    "        print ('center', center)\n",
    "    else:\n",
    "        center = [c.value_in(units.m) for c in center]\n",
    "        \n",
    "    x = grid[:,0,0].x.value_in(units.m) # fetch coordinate grids once, for speed\n",
    "    y = grid[0,:,0].y.value_in(units.m) # drop the units here for faster calculation below\n",
    "    z = grid[0,0,:].z.value_in(units.m)\n",
    "    r = r.value_in(units.m)\n",
    "    \n",
    "    bubble = numpy.zeros(grid.THL.shape)\n",
    "    for index, v in numpy.ndenumerate(bubble):\n",
    "        i,j,k = index\n",
    "        rx = x[i] - center[0]\n",
    "        ry = y[j] - center[1]\n",
    "        rz = z[k] - center[2]\n",
    "        rr = rx**2 + ry**2 + rz**2    \n",
    "        if gaussian:\n",
    "            bubble[index] = numpy.exp(-rr/(2*r**2))\n",
    "        else:\n",
    "            bubble[index] = 1 if (rr <= r*r) else 0\n",
    "    return bubble"
   ]
  },
  {
   "cell_type": "markdown",
   "metadata": {},
   "source": [
    "Create a perturbation: bubble of warm air."
   ]
  },
  {
   "cell_type": "code",
   "execution_count": null,
   "metadata": {},
   "outputs": [],
   "source": [
    "bubble = make_bubble(d.fields, r = 500 | units.m, center = (3200|units.m, 3200|units.m, 500|units.m), gaussian = True)\n",
    "d.fields[:,:,:].THL += 0.5 * bubble | units.K"
   ]
  },
  {
   "cell_type": "markdown",
   "metadata": {},
   "source": [
    "### Evolve model\n",
    "\n",
    "Save a sequence of 3D snapshots at times specified below."
   ]
  },
  {
   "cell_type": "code",
   "execution_count": null,
   "metadata": {},
   "outputs": [],
   "source": [
    "times = numpy.linspace(0, 40, 11) | units.minute\n",
    "\n",
    "states = []\n",
    "for t in times:\n",
    "    state = {}\n",
    "    print(\"Evolving to\", str(t))\n",
    "    d.evolve_model(t)\n",
    "\n",
    "    # save model variables\n",
    "    state['thl'] = d.fields[:,:,:].THL \n",
    "    state['qt']  = d.fields[:,:,:].QT\n",
    "    state['ql']  = d.fields[:,:,:].QL\n",
    "    state['T']   = d.fields[:,:,:].T\n",
    "    state['time'] = t\n",
    "    states.append(state)"
   ]
  },
  {
   "cell_type": "markdown",
   "metadata": {},
   "source": [
    "### Plot time series\n",
    "\n",
    "Number of columns and rows in plot"
   ]
  },
  {
   "cell_type": "code",
   "execution_count": null,
   "metadata": {},
   "outputs": [],
   "source": [
    "C, R = 3,4"
   ]
  },
  {
   "cell_type": "markdown",
   "metadata": {},
   "source": [
    "select field to plot"
   ]
  },
  {
   "cell_type": "code",
   "execution_count": null,
   "metadata": {},
   "outputs": [],
   "source": [
    "field, unit = 'thl', units.K    # liquid water potential temperature\n",
    "#field,unit = 'T', units.K     # temperature\n",
    "#field,unit = 'qt', units.shu  # total specific humidity\n",
    "#field,unit = 'ql', units.shu  # specific cloud liquid water"
   ]
  },
  {
   "cell_type": "markdown",
   "metadata": {},
   "source": [
    "find range of the variable over all the saved snapshots"
   ]
  },
  {
   "cell_type": "code",
   "execution_count": null,
   "metadata": {},
   "outputs": [],
   "source": [
    "vmin = 1e10\n",
    "vmax = -1e10\n",
    "for ind in range(len(states)):\n",
    "    vmin = min(vmin, numpy.amin(states[ind][field].value_in(unit)))\n",
    "    vmax = max(vmax, numpy.amax(states[ind][field].value_in(unit)))\n",
    "delta = vmax - vmin\n",
    "vmax = vmin + delta / 4 # adjust the range for better view of the later stages"
   ]
  },
  {
   "cell_type": "markdown",
   "metadata": {},
   "source": [
    "set up the grid extents for proper y and z axes on the plot"
   ]
  },
  {
   "cell_type": "code",
   "execution_count": null,
   "metadata": {},
   "outputs": [],
   "source": [
    "e = (0, d.fields.y[0, -1, 0].value_in(units.m), 0, d.fields.z[0, 0, -1].value_in(units.m)) #(left, right, bottom, top)"
   ]
  },
  {
   "cell_type": "markdown",
   "metadata": {},
   "source": [
    "plot yz slices at a given x index xi"
   ]
  },
  {
   "cell_type": "code",
   "execution_count": null,
   "metadata": {},
   "outputs": [],
   "source": [
    "xi = int(d.fields.THL.shape[0] / 2) # middle of the system in x"
   ]
  },
  {
   "cell_type": "markdown",
   "metadata": {},
   "source": [
    "make a grid of plots of all the snapshots and set up a color bar"
   ]
  },
  {
   "cell_type": "code",
   "execution_count": null,
   "metadata": {},
   "outputs": [],
   "source": [
    "fig, axes = plt.subplots(R, C, sharex=True, sharey=True, figsize=(15,14))\n",
    "ind = 0\n",
    "for j in range(R):\n",
    "    for i in range(C):\n",
    "        if ind < len(states):\n",
    "            f  = states[ind][field].value_in(unit)\n",
    "            time = states[ind]['time']\n",
    "        \n",
    "            im = axes[j, i].imshow(f[xi, :, :].transpose(), origin='bottom', extent=e, vmin=vmin, vmax=vmax)\n",
    "            axes[j, i].text(.1, .1, str(time.in_(units.minute)), color='w', transform=axes[j, i].transAxes)\n",
    "            ind += 1\n",
    "        else:\n",
    "            # remove un-used axes\n",
    "            fig.delaxes(axes[j, i])\n",
    "\n",
    "bar_axes = plt.axes((.7, .05, .03, .18))\n",
    "cbar = plt.colorbar(im, cax=bar_axes)\n",
    "cbar.set_label('%s (%s)'%(field, unit))"
   ]
  },
  {
   "cell_type": "code",
   "execution_count": null,
   "metadata": {},
   "outputs": [],
   "source": []
  }
 ],
 "metadata": {
  "kernelspec": {
   "display_name": "Python 2",
   "language": "python",
   "name": "python2"
  },
  "language_info": {
   "codemirror_mode": {
    "name": "ipython",
    "version": 2
   },
   "file_extension": ".py",
   "mimetype": "text/x-python",
   "name": "python",
   "nbconvert_exporter": "python",
   "pygments_lexer": "ipython2",
   "version": "2.7.15+"
  }
 },
 "nbformat": 4,
 "nbformat_minor": 2
}
